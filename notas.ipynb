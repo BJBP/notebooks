{
 "cells": [
  {
   "cell_type": "code",
   "execution_count": null,
   "metadata": {},
   "outputs": [],
   "source": []
  },
  {
   "cell_type": "markdown",
   "metadata": {},
   "source": [
    "../imagenes/ para subir 2 niveles"
   ]
  },
  {
   "cell_type": "markdown",
   "metadata": {},
   "source": [
    "tipos de operaciones:\n",
    "gLOBAL\n",
    "lOCAL \n",
    "pUNTO A PUNTO"
   ]
  },
  {
   "cell_type": "markdown",
   "metadata": {},
   "source": [
    "Binarización:\n",
    "Umbral\n",
    "Si I(x,y)>T\n",
    "Sino 0\n",
    "\n",
    "Otsu\n",
    "\n",
    "plt.plot(x,y"
   ]
  }
 ],
 "metadata": {
  "language_info": {
   "name": "python"
  }
 },
 "nbformat": 4,
 "nbformat_minor": 2
}
